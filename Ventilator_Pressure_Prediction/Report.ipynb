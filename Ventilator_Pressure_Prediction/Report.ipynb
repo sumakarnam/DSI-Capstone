{
 "cells": [
  {
   "cell_type": "markdown",
   "id": "17913ea4",
   "metadata": {},
   "source": [
    "# Ventilator Pressure Prediction "
   ]
  },
  {
   "cell_type": "markdown",
   "id": "9fea1372",
   "metadata": {},
   "source": [
    "## Contents\n",
    "\n",
    "1. [Introduction](#Introduction)\n",
    "2. [Goal](#Goal)\n",
    "3. [Data Description](#Data-Description) \n",
    "4. [Data Cleaning and EDA](#Data-Cleaning-and-EDA)\n",
    "5. [Feature Engineering and Modeling](#Feature-Engineering-and-Modeling)\n",
    "6. [Model Performance](#Model-Performance)\n",
    "7. [Conclusions and TODO](#Conclusions-and-TODO)"
   ]
  },
  {
   "cell_type": "markdown",
   "id": "0f5c7819",
   "metadata": {},
   "source": [
    "## Introduction"
   ]
  },
  {
   "cell_type": "markdown",
   "id": "39d4ae8b",
   "metadata": {},
   "source": [
    "The current project involves using machine learning models to predict airway pressure in the respiratory circuit of an  [open source ventilator](#https://www.peoplesvent.org/en/latest/) attached to an [artificial test lung](#https://www.ingmarmed.com/product/quicklung/). This section includes a high level overview of the workings of the open source ventilator\n",
    "\n",
    "### PVP - The People's Ventilator Project \n",
    "\n",
    "The global COVID-19 pandemic has highlighted the need for a low-cost, rapidly-deployable ventilator, for the current as well as future respiratory virus outbreaks. While safe and robust ventilation technology exists in the commercial sector, the small number of capable suppliers cannot meet the severe demands for ventilators during a pandemic. Moreover, the specialized, proprietary equipment developed by medical device manufacturers is expensive and inaccessible in low-resource areas.\n",
    "\n",
    "The [People’s Ventilator Project (PVP)](https://www.peoplesvent.org/en/latest/) is an open-source, low-cost pressure-control ventilator designed for minimal reliance on specialized medical parts to better adapt to supply chain shortages. This is a project funder and supported by the Princeton University.\n",
    "\n",
    "Note: As per the team that designed the PVP, it is not a regulated or clinically validated medical device. It is currently recommended only for research purposes.\n",
    "\n",
    "- [source 1: PVP homepage](https://www.peoplesvent.org/en/latest/)\n",
    "- [source 2: medRxiv Preprint](./research/medRxiv_preprint.pdf)\n",
    "\n",
    "### The Setup\n",
    "\n",
    "The diagram below [(source)](https://www.kaggle.com/c/ventilator-pressure-prediction/data) illustrates the setup.  There are two control inputs that are highlighted in green. The state variable (airway pressure) to predict in blue. \n",
    "\n",
    "The first control input is a continuous variable from 0 to 100 representing the percentage the inspiratory valve is open to let air into the lung (i.e., 0 is completely closed and no air is let in and 100 is completely open). The second control input is a binary variable representing whether the expiratory valve is open (1) or closed (0) to let air out.\n",
    "\n",
    "![ventilator_diagram.svg](./research/ventilator_diagram.svg)"
   ]
  },
  {
   "cell_type": "markdown",
   "id": "d32a0246",
   "metadata": {},
   "source": [
    "## Goal"
   ]
  },
  {
   "cell_type": "markdown",
   "id": "dc3d7700",
   "metadata": {},
   "source": [
    "The goal is to predict the airway pressure in the respiratory circuit and minimize the mean absolute error. "
   ]
  },
  {
   "cell_type": "markdown",
   "id": "1d5c3fca",
   "metadata": {},
   "source": [
    "## Data Description"
   ]
  },
  {
   "cell_type": "markdown",
   "id": "464c7bee",
   "metadata": {},
   "source": [
    "The [data](https://www.kaggle.com/c/ventilator-pressure-prediction/data) is available for download from the webpage of an open competition hosted on Kaggle. \n",
    "\n",
    "The dataset contains more than 75000 time series of breaths. Each time series represents a 3 second breath and has the values of the control variables (`u_in`, percentage the inspiratory valve is open to let air in and  `u_out`, a binary variable indicating if the expiratory valve is open) and the `pressure`, the airway pressure at 80 timestamps between 1 to 3 seconds. In addition to this, the values of two lung attributes - resistance(`R`) and compliance(`C`) are also available for each breath. \n",
    "\n",
    "Here is a complete [data dictionary](https://www.kaggle.com/c/ventilator-pressure-prediction/data):\n",
    "\n",
    "- `id` - globally-unique row identifier across an entire file\n",
    "- `breath_id` - globally-unique identifier for breaths\n",
    "- `R` - lung attribute indicating how restricted the airway is (in cmH2O/L/S). Physically, this is the change in pressure per change in flow (air volume per time). Intuitively, one can imagine blowing up a balloon through a straw. We can change R by changing the diameter of the straw, with higher R being harder to blow. Either 5, 20 or 50\n",
    "- `C` - lung attribute indicating how compliant the lung is (in mL/cmH2O). Physically, this is the change in volume per change in pressure. Intuitively, one can imagine the same balloon example. We can change C by changing the thickness of the balloon’s latex, with higher C having thinner latex and easier to blow. Either 10, 20 or 50\n",
    "- `time_step` - the actual time stamp.\n",
    "- `u_in` - the control input for the inspiratory solenoid valve. Ranges from 0 to 100.\n",
    "- `u_out` - the control input for the exploratory solenoid valve. Either 0 or 1.\n",
    "- `pressure` - the airway pressure measured in the respiratory circuit, measured in cmH2O."
   ]
  },
  {
   "cell_type": "markdown",
   "id": "7bc9fa6f",
   "metadata": {},
   "source": [
    "## Data Cleaning and EDA"
   ]
  },
  {
   "cell_type": "markdown",
   "id": "1997f39e",
   "metadata": {},
   "source": [
    "### Data Cleaning\n",
    "\n",
    "There were a small number of rows (~ 0.0005%) which had negative `pressure` values. The data was cleaned by dropping any breath (entire time series corresponding to a single 3s breath) if it had even one row with negative pressure. This led to dropping 73 (of more than 75000) breaths but still retaining more than 99.9% of the original raw data. The details of this cleaning and EDA can be found in this  [notebook](./code/EDA.ipynb) "
   ]
  },
  {
   "cell_type": "markdown",
   "id": "56ce9f3e",
   "metadata": {},
   "source": [
    "### EDA - Analyzing single breaths\n",
    "\n",
    "EDA involved analyzing the distributions of the target variable, `pressure` and the control variables and the correlations between them.\n",
    "\n",
    "The interesting aspect of the EDA involved exploring the time series of each breath. Each breath has an inspiratory phase where the airway pressure increases, reaches a peak inspiratory pressure (PIP) and the pressure decreses during the expiratory phase. The following are the visualisations of airway pressure for six different breath time series in the data along with the values of the control variables (`u_in` and `u_out`)\n",
    "\n",
    "![breaths_EDA.png](./figures/breaths_EDA.png)"
   ]
  },
  {
   "cell_type": "markdown",
   "id": "fdd5dafb",
   "metadata": {},
   "source": [
    "## Feature Engineering and Modeling\n",
    "\n",
    "The approach taken to predicting the airway pressure was to use tree based models with various 'breath_level' features.\n",
    "\n",
    "For each breath time series, the following features were engineered and the details can be found in this [notebook](./code/Feature_engineering.ipynb):\n",
    "\n",
    "- Cumulative sum of `u_in` and `u_out`\n",
    "- Average of `u_in` and `u_out`\n",
    "- Rolling sum (over 2 time steps) of u_in and u_out\n",
    "- Lags (over 1 and 2 time steps) of u_in and u_out\n",
    "- Difference in the time steps\n",
    "- Polynomial interaction features between `u_in` and `time_step` for various powers of the variables.\n",
    "\n",
    "Several tree based models (Random forest regressor and gradient boosting regressor) were fitted to tune the hyperparameters of the models and also the powers of the polynomial features and the duration of the rolling sums. Complete details of hyperparameter tuning can be found in this [notebook](./code/basic_models.ipynb) and [here](https://colab.research.google.com/drive/19GGYh31rs1gg7vgO2W0P33-fYZrcNDUy)\n",
    "\n",
    "![engineered_feature.png](./figures/engineered_feature.png)\n"
   ]
  },
  {
   "cell_type": "markdown",
   "id": "cac79a07",
   "metadata": {},
   "source": [
    "## Model Performance\n",
    "\n",
    "**Note: All metrics are in the units of pressure measured in cmH20**\n",
    "\n",
    "- The null model had a mean absolute error of 6.18 \n",
    "- A random forest regressor with all the independent variables had a MAE of 2.08\n",
    "- The best performing model was GradientBoostingRegressor with an MAE of 0.45 but this was considerably more overfit than the next best model with an MAE of 0.49"
   ]
  },
  {
   "cell_type": "markdown",
   "id": "d8a7294f",
   "metadata": {},
   "source": [
    "## Conclusions and TODO"
   ]
  },
  {
   "cell_type": "markdown",
   "id": "6bc40562",
   "metadata": {},
   "source": [
    "- Use the current model to seed the first few pressure values in every new breath cycle and use a time series model to predict the rest\n",
    "- Use deep learning\n",
    "- More hyperparameter tuning and feature engineering to reduce the mean absolute error"
   ]
  }
 ],
 "metadata": {
  "kernelspec": {
   "display_name": "Python 3",
   "language": "python",
   "name": "python3"
  },
  "language_info": {
   "codemirror_mode": {
    "name": "ipython",
    "version": 3
   },
   "file_extension": ".py",
   "mimetype": "text/x-python",
   "name": "python",
   "nbconvert_exporter": "python",
   "pygments_lexer": "ipython3",
   "version": "3.8.8"
  }
 },
 "nbformat": 4,
 "nbformat_minor": 5
}
