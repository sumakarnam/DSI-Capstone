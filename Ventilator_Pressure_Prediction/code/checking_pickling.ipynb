{
 "cells": [
  {
   "cell_type": "code",
   "execution_count": 2,
   "id": "c36c46db",
   "metadata": {},
   "outputs": [],
   "source": [
    "import pandas as pd\n",
    "import numpy as np\n",
    "import matplotlib.pyplot as plt\n",
    "\n",
    "import seaborn as sns\n",
    "\n",
    "# seaborn plot styles\n",
    "\n",
    "sns.set_style(\"dark\")\n",
    "sns.set_palette(\"deep\")\n",
    "plt.rcParams[\"axes.labelsize\"] = 15\n",
    "plt.rcParams[\"axes.titlesize\"] = 20\n",
    "myblue = '#0b5394'\n",
    "\n",
    "%matplotlib inline\n",
    "\n",
    "from sklearn.model_selection import train_test_split\n",
    "from sklearn.ensemble import RandomForestRegressor\n",
    "from sklearn.metrics import mean_absolute_error, mean_squared_error, r2_score\n",
    "\n",
    "import pickle\n",
    "\n",
    "#display all output form a cell not just the last (the options are 'all', 'none', 'last' and 'last_expr'.)\n",
    "\n",
    "from IPython.core.interactiveshell import InteractiveShell\n",
    "InteractiveShell.ast_node_interactivity = \"all\"\n",
    "import time\n"
   ]
  },
  {
   "cell_type": "code",
   "execution_count": 3,
   "id": "649a52d4",
   "metadata": {},
   "outputs": [],
   "source": [
    "model_that_was_pickled = pickle.load(open('../models/model_1.p', 'rb'))"
   ]
  },
  {
   "cell_type": "code",
   "execution_count": 4,
   "id": "658a7928",
   "metadata": {},
   "outputs": [],
   "source": [
    "data = pd.read_csv('../data/train_clean.csv')\n",
    "\n",
    "#train_test_split\n",
    "\n",
    "train_breath_ids, test_breath_ids = train_test_split(data['breath_id'].unique() , test_size=0.25, random_state=42)\n",
    "\n",
    "train = data[data['breath_id'].isin(train_breath_ids)]\n",
    "test = data[data['breath_id'].isin(test_breath_ids)]\n",
    "\n",
    "assert(data.shape[0] == train.shape[0] + test.shape[0])\n",
    "\n",
    "#creating features amd target\n",
    "x_train = train[['R', 'C', 'time_step', 'u_in', 'u_out']]\n",
    "y_train = train['pressure']\n",
    "x_test = test[['R', 'C', 'time_step', 'u_in', 'u_out']]\n",
    "y_test = test['pressure'] "
   ]
  },
  {
   "cell_type": "code",
   "execution_count": 5,
   "id": "4bfb8915",
   "metadata": {},
   "outputs": [
    {
     "data": {
      "text/plain": [
       "0.7484180929090944"
      ]
     },
     "execution_count": 5,
     "metadata": {},
     "output_type": "execute_result"
    }
   ],
   "source": [
    "model_that_was_pickled.score(x_train, y_train)"
   ]
  },
  {
   "cell_type": "code",
   "execution_count": 6,
   "id": "3ee57c18",
   "metadata": {},
   "outputs": [
    {
     "data": {
      "text/plain": [
       "array([0.04053517, 0.04382857, 0.80323469, 0.11240157, 0.        ])"
      ]
     },
     "execution_count": 6,
     "metadata": {},
     "output_type": "execute_result"
    }
   ],
   "source": [
    "model_that_was_pickled.feature_importances_"
   ]
  },
  {
   "cell_type": "code",
   "execution_count": 7,
   "id": "17cb7dd7",
   "metadata": {},
   "outputs": [
    {
     "data": {
      "text/plain": [
       "array([5.89688207, 6.66139177, 7.54540511, ..., 6.42900145, 6.42900145,\n",
       "       6.42900145])"
      ]
     },
     "execution_count": 7,
     "metadata": {},
     "output_type": "execute_result"
    }
   ],
   "source": [
    "model_that_was_pickled.predict(x_test)"
   ]
  },
  {
   "cell_type": "code",
   "execution_count": 15,
   "id": "3d5fc6f0",
   "metadata": {},
   "outputs": [
    {
     "data": {
      "text/plain": [
       "1"
      ]
     },
     "execution_count": 15,
     "metadata": {},
     "output_type": "execute_result"
    }
   ],
   "source": [
    "model_that_was_pickled."
   ]
  },
  {
   "cell_type": "code",
   "execution_count": null,
   "id": "2df885b4",
   "metadata": {},
   "outputs": [],
   "source": []
  }
 ],
 "metadata": {
  "kernelspec": {
   "display_name": "Python 3",
   "language": "python",
   "name": "python3"
  },
  "language_info": {
   "codemirror_mode": {
    "name": "ipython",
    "version": 3
   },
   "file_extension": ".py",
   "mimetype": "text/x-python",
   "name": "python",
   "nbconvert_exporter": "python",
   "pygments_lexer": "ipython3",
   "version": "3.8.8"
  }
 },
 "nbformat": 4,
 "nbformat_minor": 5
}
