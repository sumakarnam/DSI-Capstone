{
 "cells": [
  {
   "cell_type": "code",
   "execution_count": 2,
   "id": "dfeb1817",
   "metadata": {},
   "outputs": [],
   "source": [
    "import pandas as pd\n",
    "import numpy as np\n",
    "import matplotlib.pyplot as plt\n",
    "\n",
    "import seaborn as sns\n",
    "\n",
    "# seaborn plot styles\n",
    "\n",
    "sns.set_style(\"dark\")\n",
    "sns.set_palette(\"deep\")\n",
    "plt.rcParams[\"axes.labelsize\"] = 15\n",
    "plt.rcParams[\"axes.titlesize\"] = 20\n",
    "myblue = '#0b5394'\n",
    "\n",
    "%matplotlib inline\n",
    "\n",
    "from sklearn.model_selection import train_test_split, GridSearchCV, RandomizedSearchCV\n",
    "from sklearn.ensemble import RandomForestRegressor, GradientBoostingRegressor, AdaBoostRegressor, VotingRegressor\n",
    "from sklearn.metrics import mean_absolute_error, mean_squared_error, r2_score\n",
    "\n",
    "\n",
    "import pickle\n",
    "\n",
    "#display all output form a cell not just the last (the options are 'all', 'none', 'last' and 'last_expr'.)\n",
    "\n",
    "from IPython.core.interactiveshell import InteractiveShell\n",
    "InteractiveShell.ast_node_interactivity = \"all\"\n",
    "import time"
   ]
  },
  {
   "cell_type": "code",
   "execution_count": 3,
   "id": "7b294dc9",
   "metadata": {},
   "outputs": [
    {
     "name": "stderr",
     "output_type": "stream",
     "text": [
      "/home/suma/anaconda3/envs/dsi/lib/python3.8/site-packages/sklearn/base.py:310: UserWarning: Trying to unpickle estimator DecisionTreeRegressor from version 0.24.1 when using version 0.24.2. This might lead to breaking code or invalid results. Use at your own risk.\n",
      "  warnings.warn(\n",
      "/home/suma/anaconda3/envs/dsi/lib/python3.8/site-packages/sklearn/base.py:310: UserWarning: Trying to unpickle estimator RandomForestRegressor from version 0.24.1 when using version 0.24.2. This might lead to breaking code or invalid results. Use at your own risk.\n",
      "  warnings.warn(\n"
     ]
    }
   ],
   "source": [
    "model = pickle.load(open('../models/rf_v1.p', 'rb'))"
   ]
  },
  {
   "cell_type": "code",
   "execution_count": 4,
   "id": "298c8a06",
   "metadata": {},
   "outputs": [],
   "source": [
    "data = pd.read_csv('../data/data_with_features_v1.csv')"
   ]
  },
  {
   "cell_type": "code",
   "execution_count": 5,
   "id": "1262c825",
   "metadata": {},
   "outputs": [],
   "source": [
    "#train_test_split\n",
    "\n",
    "train_breath_ids, test_breath_ids = train_test_split(data['breath_id'].unique(), test_size=0.4, random_state=0)\n",
    "\n",
    "train = data[data['breath_id'].isin(train_breath_ids)].copy()\n",
    "test = data[data['breath_id'].isin(test_breath_ids)].copy()\n",
    "\n",
    "assert(data.shape[0] == train.shape[0] + test.shape[0])\n",
    "\n",
    "#creating features and target\n",
    "x_train = train.drop(columns = ['id', 'breath_id', 'pressure'])\n",
    "y_train = train['pressure']\n",
    "x_test = test.drop(columns = ['id', 'breath_id', 'pressure'])\n",
    "y_test = test['pressure']"
   ]
  },
  {
   "cell_type": "code",
   "execution_count": 6,
   "id": "9c924137",
   "metadata": {},
   "outputs": [
    {
     "name": "stdout",
     "output_type": "stream",
     "text": [
      "training score: 0.9934102626332331\n",
      "model train mean absolute error: 0.3658288968567603\n",
      "model mean absolute error: 0.487670315565796\n",
      "model rmse: 0.9174024416901989\n"
     ]
    }
   ],
   "source": [
    "#model performance\n",
    "\n",
    "print(f'training score: {model.score(x_train,y_train)}')\n",
    "print(f'model train mean absolute error: {mean_absolute_error(y_train, model.predict(x_train))}')\n",
    "\n",
    "preds_model = model.predict(x_test)\n",
    "\n",
    "print(f'model mean absolute error: {mean_absolute_error(y_test, preds_model)}')\n",
    "print(f'model rmse: {mean_squared_error(y_test, preds_model, squared=False)}')"
   ]
  },
  {
   "cell_type": "code",
   "execution_count": 7,
   "id": "3733f42d",
   "metadata": {},
   "outputs": [],
   "source": [
    "#adding predicts to the test DataFrame\n",
    "\n",
    "test['prediction'] = preds_model\n",
    "test['mae'] = np.abs(test['pressure']-test['prediction'])\n"
   ]
  },
  {
   "cell_type": "code",
   "execution_count": 8,
   "id": "681b9fbe",
   "metadata": {},
   "outputs": [
    {
     "data": {
      "text/html": [
       "<div>\n",
       "<style scoped>\n",
       "    .dataframe tbody tr th:only-of-type {\n",
       "        vertical-align: middle;\n",
       "    }\n",
       "\n",
       "    .dataframe tbody tr th {\n",
       "        vertical-align: top;\n",
       "    }\n",
       "\n",
       "    .dataframe thead th {\n",
       "        text-align: right;\n",
       "    }\n",
       "</style>\n",
       "<table border=\"1\" class=\"dataframe\">\n",
       "  <thead>\n",
       "    <tr style=\"text-align: right;\">\n",
       "      <th></th>\n",
       "      <th>breath_id</th>\n",
       "      <th>pressure</th>\n",
       "      <th>prediction</th>\n",
       "      <th>mae</th>\n",
       "    </tr>\n",
       "    <tr>\n",
       "      <th>u_out</th>\n",
       "      <th></th>\n",
       "      <th></th>\n",
       "      <th></th>\n",
       "      <th></th>\n",
       "    </tr>\n",
       "  </thead>\n",
       "  <tbody>\n",
       "    <tr>\n",
       "      <th>0</th>\n",
       "      <td>62815.559819</td>\n",
       "      <td>17.605792</td>\n",
       "      <td>17.606317</td>\n",
       "      <td>0.843971</td>\n",
       "    </tr>\n",
       "    <tr>\n",
       "      <th>1</th>\n",
       "      <td>62800.680270</td>\n",
       "      <td>7.325495</td>\n",
       "      <td>7.323020</td>\n",
       "      <td>0.269703</td>\n",
       "    </tr>\n",
       "  </tbody>\n",
       "</table>\n",
       "</div>"
      ],
      "text/plain": [
       "          breath_id   pressure  prediction       mae\n",
       "u_out                                               \n",
       "0      62815.559819  17.605792   17.606317  0.843971\n",
       "1      62800.680270   7.325495    7.323020  0.269703"
      ]
     },
     "execution_count": 8,
     "metadata": {},
     "output_type": "execute_result"
    },
    {
     "data": {
      "text/html": [
       "<div>\n",
       "<style scoped>\n",
       "    .dataframe tbody tr th:only-of-type {\n",
       "        vertical-align: middle;\n",
       "    }\n",
       "\n",
       "    .dataframe tbody tr th {\n",
       "        vertical-align: top;\n",
       "    }\n",
       "\n",
       "    .dataframe thead th {\n",
       "        text-align: right;\n",
       "    }\n",
       "</style>\n",
       "<table border=\"1\" class=\"dataframe\">\n",
       "  <thead>\n",
       "    <tr style=\"text-align: right;\">\n",
       "      <th></th>\n",
       "      <th></th>\n",
       "      <th>pressure</th>\n",
       "      <th>prediction</th>\n",
       "      <th>mae</th>\n",
       "    </tr>\n",
       "    <tr>\n",
       "      <th>breath_id</th>\n",
       "      <th>u_out</th>\n",
       "      <th></th>\n",
       "      <th></th>\n",
       "      <th></th>\n",
       "    </tr>\n",
       "  </thead>\n",
       "  <tbody>\n",
       "    <tr>\n",
       "      <th rowspan=\"2\" valign=\"top\">1</th>\n",
       "      <th>0</th>\n",
       "      <td>16.200028</td>\n",
       "      <td>17.112715</td>\n",
       "      <td>0.935178</td>\n",
       "    </tr>\n",
       "    <tr>\n",
       "      <th>1</th>\n",
       "      <td>7.625978</td>\n",
       "      <td>7.516004</td>\n",
       "      <td>0.277736</td>\n",
       "    </tr>\n",
       "    <tr>\n",
       "      <th rowspan=\"2\" valign=\"top\">2</th>\n",
       "      <th>0</th>\n",
       "      <td>13.832543</td>\n",
       "      <td>12.939161</td>\n",
       "      <td>0.905826</td>\n",
       "    </tr>\n",
       "    <tr>\n",
       "      <th>1</th>\n",
       "      <td>6.776232</td>\n",
       "      <td>6.925650</td>\n",
       "      <td>0.482566</td>\n",
       "    </tr>\n",
       "    <tr>\n",
       "      <th>4</th>\n",
       "      <th>0</th>\n",
       "      <td>23.531663</td>\n",
       "      <td>22.432111</td>\n",
       "      <td>1.258038</td>\n",
       "    </tr>\n",
       "    <tr>\n",
       "      <th>...</th>\n",
       "      <th>...</th>\n",
       "      <td>...</td>\n",
       "      <td>...</td>\n",
       "      <td>...</td>\n",
       "    </tr>\n",
       "    <tr>\n",
       "      <th>125742</th>\n",
       "      <th>1</th>\n",
       "      <td>7.585203</td>\n",
       "      <td>7.621649</td>\n",
       "      <td>0.507385</td>\n",
       "    </tr>\n",
       "    <tr>\n",
       "      <th rowspan=\"2\" valign=\"top\">125745</th>\n",
       "      <th>0</th>\n",
       "      <td>22.787112</td>\n",
       "      <td>21.787244</td>\n",
       "      <td>1.030574</td>\n",
       "    </tr>\n",
       "    <tr>\n",
       "      <th>1</th>\n",
       "      <td>7.774388</td>\n",
       "      <td>7.522354</td>\n",
       "      <td>0.324458</td>\n",
       "    </tr>\n",
       "    <tr>\n",
       "      <th rowspan=\"2\" valign=\"top\">125749</th>\n",
       "      <th>0</th>\n",
       "      <td>22.756875</td>\n",
       "      <td>21.481404</td>\n",
       "      <td>1.366543</td>\n",
       "    </tr>\n",
       "    <tr>\n",
       "      <th>1</th>\n",
       "      <td>6.790789</td>\n",
       "      <td>6.764059</td>\n",
       "      <td>0.476192</td>\n",
       "    </tr>\n",
       "  </tbody>\n",
       "</table>\n",
       "<p>45226 rows × 3 columns</p>\n",
       "</div>"
      ],
      "text/plain": [
       "                  pressure  prediction       mae\n",
       "breath_id u_out                                 \n",
       "1         0      16.200028   17.112715  0.935178\n",
       "          1       7.625978    7.516004  0.277736\n",
       "2         0      13.832543   12.939161  0.905826\n",
       "          1       6.776232    6.925650  0.482566\n",
       "4         0      23.531663   22.432111  1.258038\n",
       "...                    ...         ...       ...\n",
       "125742    1       7.585203    7.621649  0.507385\n",
       "125745    0      22.787112   21.787244  1.030574\n",
       "          1       7.774388    7.522354  0.324458\n",
       "125749    0      22.756875   21.481404  1.366543\n",
       "          1       6.790789    6.764059  0.476192\n",
       "\n",
       "[45226 rows x 3 columns]"
      ]
     },
     "execution_count": 8,
     "metadata": {},
     "output_type": "execute_result"
    }
   ],
   "source": [
    "#performance much better in the expiration phase than in the inspiration phase\n",
    "\n",
    "test[['breath_id','pressure','prediction','mae','u_out']].groupby('u_out').mean()\n",
    "test[['breath_id','pressure','prediction','mae','u_out']].groupby(['breath_id','u_out']).mean()"
   ]
  },
  {
   "cell_type": "code",
   "execution_count": 9,
   "id": "b7fc42c8",
   "metadata": {},
   "outputs": [
    {
     "data": {
      "text/html": [
       "<div>\n",
       "<style scoped>\n",
       "    .dataframe tbody tr th:only-of-type {\n",
       "        vertical-align: middle;\n",
       "    }\n",
       "\n",
       "    .dataframe tbody tr th {\n",
       "        vertical-align: top;\n",
       "    }\n",
       "\n",
       "    .dataframe thead th {\n",
       "        text-align: right;\n",
       "    }\n",
       "</style>\n",
       "<table border=\"1\" class=\"dataframe\">\n",
       "  <thead>\n",
       "    <tr style=\"text-align: right;\">\n",
       "      <th></th>\n",
       "      <th>breath_id</th>\n",
       "      <th>pressure</th>\n",
       "      <th>prediction</th>\n",
       "      <th>mae</th>\n",
       "      <th>u_out</th>\n",
       "    </tr>\n",
       "  </thead>\n",
       "  <tbody>\n",
       "    <tr>\n",
       "      <th>0</th>\n",
       "      <td>1</td>\n",
       "      <td>10.841247</td>\n",
       "      <td>11.114770</td>\n",
       "      <td>0.524277</td>\n",
       "      <td>0.6250</td>\n",
       "    </tr>\n",
       "    <tr>\n",
       "      <th>1</th>\n",
       "      <td>2</td>\n",
       "      <td>9.334145</td>\n",
       "      <td>9.105548</td>\n",
       "      <td>0.635998</td>\n",
       "      <td>0.6375</td>\n",
       "    </tr>\n",
       "    <tr>\n",
       "      <th>2</th>\n",
       "      <td>4</td>\n",
       "      <td>13.914329</td>\n",
       "      <td>13.453856</td>\n",
       "      <td>0.724477</td>\n",
       "      <td>0.6000</td>\n",
       "    </tr>\n",
       "    <tr>\n",
       "      <th>3</th>\n",
       "      <td>10</td>\n",
       "      <td>13.086522</td>\n",
       "      <td>12.292098</td>\n",
       "      <td>0.833430</td>\n",
       "      <td>0.6125</td>\n",
       "    </tr>\n",
       "    <tr>\n",
       "      <th>4</th>\n",
       "      <td>20</td>\n",
       "      <td>6.852479</td>\n",
       "      <td>7.016002</td>\n",
       "      <td>0.226109</td>\n",
       "      <td>0.6375</td>\n",
       "    </tr>\n",
       "  </tbody>\n",
       "</table>\n",
       "</div>"
      ],
      "text/plain": [
       "   breath_id   pressure  prediction       mae   u_out\n",
       "0          1  10.841247   11.114770  0.524277  0.6250\n",
       "1          2   9.334145    9.105548  0.635998  0.6375\n",
       "2          4  13.914329   13.453856  0.724477  0.6000\n",
       "3         10  13.086522   12.292098  0.833430  0.6125\n",
       "4         20   6.852479    7.016002  0.226109  0.6375"
      ]
     },
     "execution_count": 9,
     "metadata": {},
     "output_type": "execute_result"
    }
   ],
   "source": [
    "#mae by breath\n",
    "\n",
    "df = test[['breath_id','pressure','prediction','mae','u_out']].groupby(['breath_id']).mean().reset_index().copy()\n",
    "df.head()\n"
   ]
  },
  {
   "cell_type": "code",
   "execution_count": 10,
   "id": "61289383",
   "metadata": {},
   "outputs": [
    {
     "data": {
      "image/png": "[encoded data removed]",
      "text/plain": [
       "<Figure size 1296x576 with 2 Axes>"
      ]
     },
     "metadata": {
      "needs_background": "light"
     },
     "output_type": "display_data"
    }
   ],
   "source": [
    "fig, ax = plt.subplots(1, 2, figsize=(18,8));\n",
    "breath_id = 1\n",
    "\n",
    "#distribution of mae by breath\n",
    "\n",
    "df = test[['breath_id','pressure','prediction','mae','u_out']].groupby(['breath_id']).mean().reset_index().copy()\n",
    "df.head()\n",
    "\n",
    "sns.histplot(df['mae'],ax=ax[0] );\n",
    "ax[0].set_title('Distribution of MAE in predicted average pressure in a breath',fontsize=15, fontweight='bold');\n",
    "ax[0].set_xlabel('MAE in predicted pressure')\n",
    "ax[0].set_ylabel('#breaths')\n",
    "\n",
    "#predicted and true values of pressure for a few sample breaths\n",
    "df = test[test['breath_id'] == breath_id]\n",
    "sns.lineplot(data = df, y = 'pressure', x = 'time_step', \n",
    "             ax = ax[1], alpha = 0.7, color = 'maroon', label = 'true value');\n",
    "sns.lineplot(data = df, y = 'prediction', x = 'time_step', \n",
    "             ax = ax[1], alpha = 1, color = myblue, label = 'predicted value');\n",
    "\n",
    "ax[1].set_title('Predicted and observed pressure with time for a single breath', fontsize=15, fontweight='bold');\n",
    "plt.xlabel('time (seconds)');\n",
    "plt.ylabel('Pressure in cmH20');\n"
   ]
  },
  {
   "cell_type": "code",
   "execution_count": 11,
   "id": "0fd7ad29",
   "metadata": {},
   "outputs": [
    {
     "data": {
      "text/html": [
       "<div>\n",
       "<style scoped>\n",
       "    .dataframe tbody tr th:only-of-type {\n",
       "        vertical-align: middle;\n",
       "    }\n",
       "\n",
       "    .dataframe tbody tr th {\n",
       "        vertical-align: top;\n",
       "    }\n",
       "\n",
       "    .dataframe thead th {\n",
       "        text-align: right;\n",
       "    }\n",
       "</style>\n",
       "<table border=\"1\" class=\"dataframe\">\n",
       "  <thead>\n",
       "    <tr style=\"text-align: right;\">\n",
       "      <th></th>\n",
       "      <th>time_step#</th>\n",
       "      <th>mae</th>\n",
       "    </tr>\n",
       "  </thead>\n",
       "  <tbody>\n",
       "    <tr>\n",
       "      <th>0</th>\n",
       "      <td>1.0</td>\n",
       "      <td>0.426605</td>\n",
       "    </tr>\n",
       "    <tr>\n",
       "      <th>1</th>\n",
       "      <td>2.0</td>\n",
       "      <td>0.258703</td>\n",
       "    </tr>\n",
       "    <tr>\n",
       "      <th>2</th>\n",
       "      <td>3.0</td>\n",
       "      <td>0.293821</td>\n",
       "    </tr>\n",
       "    <tr>\n",
       "      <th>3</th>\n",
       "      <td>4.0</td>\n",
       "      <td>0.414331</td>\n",
       "    </tr>\n",
       "    <tr>\n",
       "      <th>4</th>\n",
       "      <td>5.0</td>\n",
       "      <td>0.529614</td>\n",
       "    </tr>\n",
       "  </tbody>\n",
       "</table>\n",
       "</div>"
      ],
      "text/plain": [
       "   time_step#       mae\n",
       "0         1.0  0.426605\n",
       "1         2.0  0.258703\n",
       "2         3.0  0.293821\n",
       "3         4.0  0.414331\n",
       "4         5.0  0.529614"
      ]
     },
     "execution_count": 11,
     "metadata": {},
     "output_type": "execute_result"
    }
   ],
   "source": [
    "# mean mae across breaths at a given time step\n",
    "test['time_step#'] = test.groupby(['breath_id'])[['time_step']].rank()\n",
    "df = test.groupby('time_step#')[['mae']].mean().reset_index()\n",
    "df.head()\n"
   ]
  },
  {
   "cell_type": "code",
   "execution_count": 12,
   "id": "6067e6fd",
   "metadata": {},
   "outputs": [
    {
     "data": {
      "image/png": "[encoded data removed]",
      "text/plain": [
       "<Figure size 576x360 with 1 Axes>"
      ]
     },
     "metadata": {
      "needs_background": "light"
     },
     "output_type": "display_data"
    }
   ],
   "source": [
    "fig, ax = plt.subplots(figsize=(8,5));\n",
    "sns.lineplot(data = df, y = 'mae', x = 'time_step#', ax = ax, alpha = 0.7, color = myblue);\n",
    "plt.xlabel('time step number');\n",
    "plt.ylabel('MAE in cmH20');\n",
    "plt.title('Variation in average of MAE in predicted pressure with time steps',fontsize=15, fontweight='bold'); "
   ]
  }
 ],
 "metadata": {
  "kernelspec": {
   "display_name": "Python 3",
   "language": "python",
   "name": "python3"
  },
  "language_info": {
   "codemirror_mode": {
    "name": "ipython",
    "version": 3
   },
   "file_extension": ".py",
   "mimetype": "text/x-python",
   "name": "python",
   "nbconvert_exporter": "python",
   "pygments_lexer": "ipython3",
   "version": "3.8.8"
  }
 },
 "nbformat": 4,
 "nbformat_minor": 5
}
