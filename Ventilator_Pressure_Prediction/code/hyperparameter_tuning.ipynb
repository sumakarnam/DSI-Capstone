{
 "cells": [
  {
   "cell_type": "code",
   "execution_count": 1,
   "id": "f2b37c47",
   "metadata": {},
   "outputs": [],
   "source": [
    "import pandas as pd\n",
    "import numpy as np\n",
    "import matplotlib.pyplot as plt\n",
    "\n",
    "import seaborn as sns\n",
    "\n",
    "# seaborn plot styles\n",
    "\n",
    "sns.set_style(\"dark\")\n",
    "sns.set_palette(\"deep\")\n",
    "plt.rcParams[\"axes.labelsize\"] = 15\n",
    "plt.rcParams[\"axes.titlesize\"] = 20\n",
    "myblue = '#0b5394'\n",
    "\n",
    "%matplotlib inline\n",
    "\n",
    "from sklearn.model_selection import train_test_split, GridSearchCV, RandomizedSearchCV\n",
    "from sklearn.ensemble import RandomForestRegressor, GradientBoostingRegressor, AdaBoostRegressor, VotingRegressor\n",
    "from sklearn.metrics import mean_absolute_error, mean_squared_error, r2_score\n",
    "\n",
    "\n",
    "import pickle\n",
    "\n",
    "#display all output form a cell not just the last (the options are 'all', 'none', 'last' and 'last_expr'.)\n",
    "\n",
    "from IPython.core.interactiveshell import InteractiveShell\n",
    "InteractiveShell.ast_node_interactivity = \"all\"\n",
    "import time\n",
    "import os"
   ]
  },
  {
   "cell_type": "code",
   "execution_count": 5,
   "id": "0e48e77c",
   "metadata": {},
   "outputs": [],
   "source": [
    "data = pd.read_csv('../data/data_with_features_v1.csv')"
   ]
  },
  {
   "cell_type": "code",
   "execution_count": 6,
   "id": "1dbef852",
   "metadata": {},
   "outputs": [
    {
     "data": {
      "text/plain": [
       "Index(['id', 'breath_id', 'R', 'C', 'time_step', 'u_in', 'u_out', 'pressure',\n",
       "       'u_in_lag_1', 'u_in_lag_2', 'step_duration', 'mean_u_in',\n",
       "       'u_in_rolling_mean', 'u_in_rolling_sum', 'u_in_cum_sum',\n",
       "       'u_out_rolling_mean', 'u_out_rolling_sum', 'u_out_cum_sum',\n",
       "       'u_in_x_time_step', 'R_x_C'],\n",
       "      dtype='object')"
      ]
     },
     "execution_count": 6,
     "metadata": {},
     "output_type": "execute_result"
    }
   ],
   "source": [
    "data.columns"
   ]
  },
  {
   "cell_type": "code",
   "execution_count": 7,
   "id": "85de5487",
   "metadata": {},
   "outputs": [],
   "source": [
    "#train_test_split\n",
    "\n",
    "train_breath_ids, test_breath_ids = train_test_split(data['breath_id'].unique(), test_size=0.4, random_state=0)\n",
    "\n",
    "train = data[data['breath_id'].isin(train_breath_ids)]\n",
    "test = data[data['breath_id'].isin(test_breath_ids)]\n",
    "\n",
    "assert(data.shape[0] == train.shape[0] + test.shape[0])\n",
    "\n",
    "#creating features and target\n",
    "x_train = train.drop(columns = ['id', 'breath_id', 'pressure'])\n",
    "y_train = train['pressure']\n",
    "x_test = test.drop(columns = ['id', 'breath_id', 'pressure'])\n",
    "y_test = test['pressure'] "
   ]
  },
  {
   "cell_type": "code",
   "execution_count": 17,
   "id": "3debca2b",
   "metadata": {},
   "outputs": [],
   "source": [
    "#set up a random grid search for random forest regressor\n",
    "\n",
    "RF = RandomForestRegressor(random_state=0, n_jobs=3)\n",
    "\n",
    "params = {\n",
    "        'n_estimators': range(100,200,10),\n",
    "        'max_depth': range(25,41),\n",
    "        'min_samples_split': range(5,15),\n",
    "        'max_features': [\"auto\"]        \n",
    "    }\n",
    "\n",
    "rs = RandomizedSearchCV(\n",
    "        estimator = RF,\n",
    "        param_distributions = params,\n",
    "        cv = 3,\n",
    "        verbose = 5,\n",
    "        n_iter= 15        \n",
    "    )"
   ]
  },
  {
   "cell_type": "code",
   "execution_count": null,
   "id": "df34621a",
   "metadata": {},
   "outputs": [
    {
     "name": "stdout",
     "output_type": "stream",
     "text": [
      "Fitting 3 folds for each of 15 candidates, totalling 45 fits\n",
      "[CV 1/3] END max_depth=33, max_features=auto, min_samples_split=6, n_estimators=150;, score=0.987 total time=44.8min\n",
      "[CV 2/3] END max_depth=33, max_features=auto, min_samples_split=6, n_estimators=150;, score=0.987 total time=46.5min\n",
      "[CV 3/3] END max_depth=33, max_features=auto, min_samples_split=6, n_estimators=150;, score=0.987 total time=46.2min\n",
      "[CV 1/3] END max_depth=34, max_features=auto, min_samples_split=7, n_estimators=170;, score=0.987 total time=52.0min\n",
      "[CV 2/3] END max_depth=34, max_features=auto, min_samples_split=7, n_estimators=170;, score=0.987 total time=52.0min\n",
      "[CV 3/3] END max_depth=34, max_features=auto, min_samples_split=7, n_estimators=170;, score=0.987 total time=52.3min\n",
      "[CV 1/3] END max_depth=36, max_features=auto, min_samples_split=8, n_estimators=100;, score=0.986 total time=30.8min\n",
      "[CV 2/3] END max_depth=36, max_features=auto, min_samples_split=8, n_estimators=100;, score=0.987 total time=30.6min\n",
      "[CV 3/3] END max_depth=36, max_features=auto, min_samples_split=8, n_estimators=100;, score=0.987 total time=30.8min\n",
      "[CV 1/3] END max_depth=36, max_features=auto, min_samples_split=13, n_estimators=180;, score=0.986 total time=53.7min\n",
      "[CV 2/3] END max_depth=36, max_features=auto, min_samples_split=13, n_estimators=180;, score=0.987 total time=53.6min\n",
      "[CV 3/3] END max_depth=36, max_features=auto, min_samples_split=13, n_estimators=180;, score=0.986 total time=55.2min\n",
      "[CV 1/3] END max_depth=36, max_features=auto, min_samples_split=5, n_estimators=120;, score=0.987 total time=37.6min\n",
      "[CV 2/3] END max_depth=36, max_features=auto, min_samples_split=5, n_estimators=120;, score=0.987 total time=38.2min\n",
      "[CV 3/3] END max_depth=36, max_features=auto, min_samples_split=5, n_estimators=120;, score=0.987 total time=37.5min\n",
      "[CV 1/3] END max_depth=33, max_features=auto, min_samples_split=13, n_estimators=130;, score=0.986 total time=40.1min\n",
      "[CV 2/3] END max_depth=33, max_features=auto, min_samples_split=13, n_estimators=130;, score=0.986 total time=38.9min\n",
      "[CV 3/3] END max_depth=33, max_features=auto, min_samples_split=13, n_estimators=130;, score=0.986 total time=39.2min\n",
      "[CV 1/3] END max_depth=25, max_features=auto, min_samples_split=6, n_estimators=100;, score=0.987 total time=29.7min\n",
      "[CV 2/3] END max_depth=25, max_features=auto, min_samples_split=6, n_estimators=100;, score=0.987 total time=29.6min\n",
      "[CV 3/3] END max_depth=25, max_features=auto, min_samples_split=6, n_estimators=100;, score=0.987 total time=29.7min\n",
      "[CV 1/3] END max_depth=28, max_features=auto, min_samples_split=9, n_estimators=130;, score=0.987 total time=38.7min\n",
      "[CV 2/3] END max_depth=28, max_features=auto, min_samples_split=9, n_estimators=130;, score=0.987 total time=38.8min\n",
      "[CV 3/3] END max_depth=28, max_features=auto, min_samples_split=9, n_estimators=130;, score=0.987 total time=38.8min\n",
      "[CV 1/3] END max_depth=25, max_features=auto, min_samples_split=9, n_estimators=110;, score=0.987 total time=32.1min\n",
      "[CV 2/3] END max_depth=25, max_features=auto, min_samples_split=9, n_estimators=110;, score=0.987 total time=32.9min\n",
      "[CV 3/3] END max_depth=25, max_features=auto, min_samples_split=9, n_estimators=110;, score=0.987 total time=33.0min\n",
      "[CV 1/3] END max_depth=37, max_features=auto, min_samples_split=5, n_estimators=120;, score=0.987 total time=38.9min\n",
      "[CV 2/3] END max_depth=37, max_features=auto, min_samples_split=5, n_estimators=120;, score=0.987 total time=38.9min\n",
      "[CV 3/3] END max_depth=37, max_features=auto, min_samples_split=5, n_estimators=120;, score=0.987 total time=38.3min\n",
      "[CV 1/3] END max_depth=34, max_features=auto, min_samples_split=13, n_estimators=150;, score=0.986 total time=46.5min\n",
      "[CV 2/3] END max_depth=34, max_features=auto, min_samples_split=13, n_estimators=150;, score=0.987 total time=50.3min\n",
      "[CV 3/3] END max_depth=34, max_features=auto, min_samples_split=13, n_estimators=150;, score=0.986 total time=49.0min\n",
      "[CV 1/3] END max_depth=32, max_features=auto, min_samples_split=8, n_estimators=130;, score=0.987 total time=44.9min\n",
      "[CV 2/3] END max_depth=32, max_features=auto, min_samples_split=8, n_estimators=130;, score=0.987 total time=43.0min\n",
      "[CV 3/3] END max_depth=32, max_features=auto, min_samples_split=8, n_estimators=130;, score=0.987 total time=44.0min\n",
      "[CV 1/3] END max_depth=30, max_features=auto, min_samples_split=12, n_estimators=170;, score=0.986 total time=50.4min\n",
      "[CV 2/3] END max_depth=30, max_features=auto, min_samples_split=12, n_estimators=170;, score=0.987 total time=50.2min\n",
      "[CV 3/3] END max_depth=30, max_features=auto, min_samples_split=12, n_estimators=170;, score=0.987 total time=50.1min\n",
      "[CV 1/3] END max_depth=38, max_features=auto, min_samples_split=8, n_estimators=110;, score=0.986 total time=33.6min\n",
      "[CV 2/3] END max_depth=38, max_features=auto, min_samples_split=8, n_estimators=110;, score=0.987 total time=33.5min\n",
      "[CV 3/3] END max_depth=38, max_features=auto, min_samples_split=8, n_estimators=110;, score=0.987 total time=33.7min\n",
      "[CV 1/3] END max_depth=33, max_features=auto, min_samples_split=11, n_estimators=160;, score=0.986 total time=47.8min\n",
      "[CV 2/3] END max_depth=33, max_features=auto, min_samples_split=11, n_estimators=160;, score=0.987 total time=48.5min\n",
      "[CV 3/3] END max_depth=33, max_features=auto, min_samples_split=11, n_estimators=160;, score=0.987 total time=51.8min\n"
     ]
    }
   ],
   "source": [
    "%%time \n",
    "\n",
    "rs.fit(x_train, y_train)"
   ]
  },
  {
   "cell_type": "code",
   "execution_count": null,
   "id": "e288c8e7",
   "metadata": {},
   "outputs": [],
   "source": [
    "best_rf_v1 = rs.best_estimator_\n",
    "\n",
    "#export vote\n",
    "\n",
    "pickle.dump(best_rf_v1, open('./models/best_rf_v1.p', 'wb'))\n",
    "\n",
    "cv_results = rs.cv_results_\n",
    "\n",
    "#export cv results\n",
    "np.save('cv_results.npy', results)"
   ]
  }
 ],
 "metadata": {
  "kernelspec": {
   "display_name": "Python 3",
   "language": "python",
   "name": "python3"
  },
  "language_info": {
   "codemirror_mode": {
    "name": "ipython",
    "version": 3
   },
   "file_extension": ".py",
   "mimetype": "text/x-python",
   "name": "python",
   "nbconvert_exporter": "python",
   "pygments_lexer": "ipython3",
   "version": "3.8.8"
  }
 },
 "nbformat": 4,
 "nbformat_minor": 5
}
