{
 "cells": [
  {
   "cell_type": "code",
   "execution_count": 1,
   "id": "ddf0219d",
   "metadata": {},
   "outputs": [],
   "source": [
    "import pandas as pd\n",
    "import numpy as np\n",
    "import matplotlib.pyplot as plt\n",
    "\n",
    "import seaborn as sns\n",
    "\n",
    "# seaborn plot styles\n",
    "\n",
    "sns.set_style(\"dark\")\n",
    "sns.set_palette(\"deep\")\n",
    "plt.rcParams[\"axes.labelsize\"] = 15\n",
    "plt.rcParams[\"axes.titlesize\"] = 20\n",
    "myblue = '#0b5394'\n",
    "\n",
    "%matplotlib inline\n",
    "\n",
    "from sklearn.model_selection import train_test_split, GridSearchCV, RandomizedSearchCV\n",
    "from sklearn.ensemble import RandomForestRegressor, GradientBoostingRegressor, AdaBoostRegressor, VotingRegressor\n",
    "from sklearn.metrics import mean_absolute_error, mean_squared_error, r2_score\n",
    "\n",
    "\n",
    "import pickle\n",
    "\n",
    "#display all output form a cell not just the last (the options are 'all', 'none', 'last' and 'last_expr'.)\n",
    "\n",
    "from IPython.core.interactiveshell import InteractiveShell\n",
    "InteractiveShell.ast_node_interactivity = \"all\"\n",
    "import time\n"
   ]
  },
  {
   "cell_type": "code",
   "execution_count": 2,
   "id": "fe7cee0b",
   "metadata": {},
   "outputs": [],
   "source": [
    "data = pd.read_csv('../data/train_clean.csv')"
   ]
  },
  {
   "cell_type": "code",
   "execution_count": 3,
   "id": "14046652",
   "metadata": {},
   "outputs": [
    {
     "data": {
      "text/html": [
       "<div>\n",
       "<style scoped>\n",
       "    .dataframe tbody tr th:only-of-type {\n",
       "        vertical-align: middle;\n",
       "    }\n",
       "\n",
       "    .dataframe tbody tr th {\n",
       "        vertical-align: top;\n",
       "    }\n",
       "\n",
       "    .dataframe thead th {\n",
       "        text-align: right;\n",
       "    }\n",
       "</style>\n",
       "<table border=\"1\" class=\"dataframe\">\n",
       "  <thead>\n",
       "    <tr style=\"text-align: right;\">\n",
       "      <th></th>\n",
       "      <th>id</th>\n",
       "      <th>breath_id</th>\n",
       "      <th>R</th>\n",
       "      <th>C</th>\n",
       "      <th>time_step</th>\n",
       "      <th>u_in</th>\n",
       "      <th>u_out</th>\n",
       "      <th>pressure</th>\n",
       "    </tr>\n",
       "  </thead>\n",
       "  <tbody>\n",
       "    <tr>\n",
       "      <th>0</th>\n",
       "      <td>1</td>\n",
       "      <td>1</td>\n",
       "      <td>20</td>\n",
       "      <td>50</td>\n",
       "      <td>0.000000</td>\n",
       "      <td>0.083334</td>\n",
       "      <td>0</td>\n",
       "      <td>5.837492</td>\n",
       "    </tr>\n",
       "    <tr>\n",
       "      <th>1</th>\n",
       "      <td>2</td>\n",
       "      <td>1</td>\n",
       "      <td>20</td>\n",
       "      <td>50</td>\n",
       "      <td>0.033652</td>\n",
       "      <td>18.383041</td>\n",
       "      <td>0</td>\n",
       "      <td>5.907794</td>\n",
       "    </tr>\n",
       "    <tr>\n",
       "      <th>2</th>\n",
       "      <td>3</td>\n",
       "      <td>1</td>\n",
       "      <td>20</td>\n",
       "      <td>50</td>\n",
       "      <td>0.067514</td>\n",
       "      <td>22.509278</td>\n",
       "      <td>0</td>\n",
       "      <td>7.876254</td>\n",
       "    </tr>\n",
       "    <tr>\n",
       "      <th>3</th>\n",
       "      <td>4</td>\n",
       "      <td>1</td>\n",
       "      <td>20</td>\n",
       "      <td>50</td>\n",
       "      <td>0.101542</td>\n",
       "      <td>22.808822</td>\n",
       "      <td>0</td>\n",
       "      <td>11.742872</td>\n",
       "    </tr>\n",
       "    <tr>\n",
       "      <th>4</th>\n",
       "      <td>5</td>\n",
       "      <td>1</td>\n",
       "      <td>20</td>\n",
       "      <td>50</td>\n",
       "      <td>0.135756</td>\n",
       "      <td>25.355850</td>\n",
       "      <td>0</td>\n",
       "      <td>12.234987</td>\n",
       "    </tr>\n",
       "  </tbody>\n",
       "</table>\n",
       "</div>"
      ],
      "text/plain": [
       "   id  breath_id   R   C  time_step       u_in  u_out   pressure\n",
       "0   1          1  20  50   0.000000   0.083334      0   5.837492\n",
       "1   2          1  20  50   0.033652  18.383041      0   5.907794\n",
       "2   3          1  20  50   0.067514  22.509278      0   7.876254\n",
       "3   4          1  20  50   0.101542  22.808822      0  11.742872\n",
       "4   5          1  20  50   0.135756  25.355850      0  12.234987"
      ]
     },
     "execution_count": 3,
     "metadata": {},
     "output_type": "execute_result"
    }
   ],
   "source": [
    "data.head()"
   ]
  },
  {
   "cell_type": "code",
   "execution_count": 4,
   "id": "9946d707",
   "metadata": {},
   "outputs": [],
   "source": [
    "#train_test_split\n",
    "\n",
    "train_breath_ids, test_breath_ids = train_test_split(data['breath_id'].unique() , test_size=0.25, random_state=42)\n",
    "\n",
    "train = data[data['breath_id'].isin(train_breath_ids)]\n",
    "test = data[data['breath_id'].isin(test_breath_ids)]\n",
    "\n",
    "assert(data.shape[0] == train.shape[0] + test.shape[0])"
   ]
  },
  {
   "cell_type": "code",
   "execution_count": 5,
   "id": "6a2ccd52",
   "metadata": {},
   "outputs": [],
   "source": [
    "#creating features and target\n",
    "x_train = train[['R', 'C', 'time_step', 'u_in', 'u_out']]\n",
    "y_train = train['pressure']\n",
    "x_test = test[['R', 'C', 'time_step', 'u_in', 'u_out']]\n",
    "y_test = test['pressure'] "
   ]
  },
  {
   "cell_type": "code",
   "execution_count": 7,
   "id": "3fd0fbef",
   "metadata": {},
   "outputs": [
    {
     "name": "stdout",
     "output_type": "stream",
     "text": [
      "baseline train mean absolute error: 6.218913796889238\n",
      "baseline mean absolute error: 6.18118475477399\n",
      "baseline rmse: 8.056713303800064\n"
     ]
    }
   ],
   "source": [
    "#baseline score\n",
    "\n",
    "baseline_score = mean_absolute_error(y_test, [y_train.mean()]*y_test.shape[0])\n",
    "\n",
    "print(f'baseline train mean absolute error: {mean_absolute_error(y_train,[y_train.mean()]*y_train.shape[0])}')\n",
    "print(f'baseline mean absolute error: {baseline_score}')\n",
    "print(f'baseline rmse: {mean_squared_error(y_test, [y_train.mean()]*y_test.shape[0], squared=False)}')"
   ]
  },
  {
   "cell_type": "code",
   "execution_count": 11,
   "id": "fbc7e95b",
   "metadata": {},
   "outputs": [
    {
     "name": "stdout",
     "output_type": "stream",
     "text": [
      "CPU times: user 21min 42s, sys: 2.26 s, total: 21min 45s\n",
      "Wall time: 5min 58s\n"
     ]
    },
    {
     "data": {
      "text/plain": [
       "RandomForestRegressor(max_depth=10, n_jobs=-1)"
      ]
     },
     "execution_count": 11,
     "metadata": {},
     "output_type": "execute_result"
    }
   ],
   "source": [
    "%%time\n",
    "\n",
    "model_1 = RandomForestRegressor(n_jobs = -1, max_depth=10)\n",
    "model_1.fit(x_train, y_train)"
   ]
  },
  {
   "cell_type": "code",
   "execution_count": 12,
   "id": "db85c81d",
   "metadata": {},
   "outputs": [
    {
     "data": {
      "text/plain": [
       "0.7484180929090944"
      ]
     },
     "execution_count": 12,
     "metadata": {},
     "output_type": "execute_result"
    }
   ],
   "source": [
    "model_1.score(x_train,y_train)"
   ]
  },
  {
   "cell_type": "code",
   "execution_count": 13,
   "id": "2896a607",
   "metadata": {},
   "outputs": [],
   "source": [
    "preds_1 = model_1.predict(x_test)"
   ]
  },
  {
   "cell_type": "code",
   "execution_count": 14,
   "id": "675d78ea",
   "metadata": {},
   "outputs": [
    {
     "name": "stdout",
     "output_type": "stream",
     "text": [
      "model_1 mean absolute error: 2.0809270467123895\n",
      "model_1 rmse: 4.048649367933456\n"
     ]
    }
   ],
   "source": [
    "print(f'model_1 mean absolute error: {mean_absolute_error(y_test, preds_1)}')\n",
    "print(f'model_1 rmse: {mean_squared_error(y_test, preds_1, squared=False)}')"
   ]
  },
  {
   "cell_type": "code",
   "execution_count": 24,
   "id": "222eca2c",
   "metadata": {},
   "outputs": [
    {
     "data": {
      "text/html": [
       "<div>\n",
       "<style scoped>\n",
       "    .dataframe tbody tr th:only-of-type {\n",
       "        vertical-align: middle;\n",
       "    }\n",
       "\n",
       "    .dataframe tbody tr th {\n",
       "        vertical-align: top;\n",
       "    }\n",
       "\n",
       "    .dataframe thead th {\n",
       "        text-align: right;\n",
       "    }\n",
       "</style>\n",
       "<table border=\"1\" class=\"dataframe\">\n",
       "  <thead>\n",
       "    <tr style=\"text-align: right;\">\n",
       "      <th></th>\n",
       "      <th>feature</th>\n",
       "      <th>feature_importance</th>\n",
       "    </tr>\n",
       "  </thead>\n",
       "  <tbody>\n",
       "    <tr>\n",
       "      <th>0</th>\n",
       "      <td>R</td>\n",
       "      <td>0.040535</td>\n",
       "    </tr>\n",
       "    <tr>\n",
       "      <th>1</th>\n",
       "      <td>C</td>\n",
       "      <td>0.043829</td>\n",
       "    </tr>\n",
       "    <tr>\n",
       "      <th>2</th>\n",
       "      <td>time_step</td>\n",
       "      <td>0.803235</td>\n",
       "    </tr>\n",
       "    <tr>\n",
       "      <th>3</th>\n",
       "      <td>u_in</td>\n",
       "      <td>0.112402</td>\n",
       "    </tr>\n",
       "    <tr>\n",
       "      <th>4</th>\n",
       "      <td>u_out</td>\n",
       "      <td>0.000000</td>\n",
       "    </tr>\n",
       "  </tbody>\n",
       "</table>\n",
       "</div>"
      ],
      "text/plain": [
       "     feature  feature_importance\n",
       "0          R            0.040535\n",
       "1          C            0.043829\n",
       "2  time_step            0.803235\n",
       "3       u_in            0.112402\n",
       "4      u_out            0.000000"
      ]
     },
     "execution_count": 24,
     "metadata": {},
     "output_type": "execute_result"
    }
   ],
   "source": [
    "model_1_feature_importances = pd.DataFrame({'feature': x_train.columns, 'feature_importance': model_1.feature_importances_})\n",
    "model_1_feature_importances\n",
    "# model_1_feature_importances.to_csv('../models/model_1_feature_importances.csv', index=False)"
   ]
  },
  {
   "cell_type": "code",
   "execution_count": 17,
   "id": "cd85dec3",
   "metadata": {},
   "outputs": [],
   "source": [
    "#export model_1\n",
    "\n",
    "# pickle.dump(model_1, open('../models/model_1.p', 'wb'))"
   ]
  },
  {
   "cell_type": "code",
   "execution_count": 7,
   "id": "5c455970",
   "metadata": {},
   "outputs": [
    {
     "data": {
      "text/plain": [
       "0          1.922421\n",
       "1          1.932650\n",
       "2          2.183380\n",
       "3          2.544972\n",
       "4          2.582864\n",
       "             ...   \n",
       "4522555    1.582895\n",
       "4522556    1.582895\n",
       "4522557    1.568351\n",
       "4522558    1.625299\n",
       "4522559    1.582895\n",
       "Name: pressure, Length: 3391920, dtype: float64"
      ]
     },
     "execution_count": 7,
     "metadata": {},
     "output_type": "execute_result"
    },
    {
     "data": {
      "text/plain": [
       "0           5.837492\n",
       "1           5.907794\n",
       "2           7.876254\n",
       "3          11.742872\n",
       "4          12.234987\n",
       "             ...    \n",
       "4522555     3.869032\n",
       "4522556     3.869032\n",
       "4522557     3.798729\n",
       "4522558     4.079938\n",
       "4522559     3.869032\n",
       "Name: pressure, Length: 3391920, dtype: float64"
      ]
     },
     "execution_count": 7,
     "metadata": {},
     "output_type": "execute_result"
    },
    {
     "data": {
      "text/plain": [
       "0           5.837492\n",
       "1           5.907794\n",
       "2           7.876254\n",
       "3          11.742872\n",
       "4          12.234987\n",
       "             ...    \n",
       "4522555     3.869032\n",
       "4522556     3.869032\n",
       "4522557     3.798729\n",
       "4522558     4.079938\n",
       "4522559     3.869032\n",
       "Name: pressure, Length: 3391920, dtype: float64"
      ]
     },
     "execution_count": 7,
     "metadata": {},
     "output_type": "execute_result"
    }
   ],
   "source": [
    "np.log(y_train + 1)\n",
    "np.exp(np.log(y_train + 1))-1\n",
    "y_train"
   ]
  },
  {
   "cell_type": "code",
   "execution_count": 7,
   "id": "9a32a46e",
   "metadata": {},
   "outputs": [
    {
     "name": "stderr",
     "output_type": "stream",
     "text": [
      "[Parallel(n_jobs=-1)]: Using backend ThreadingBackend with 4 concurrent workers.\n"
     ]
    },
    {
     "name": "stdout",
     "output_type": "stream",
     "text": [
      "building tree 1 of 100building tree 2 of 100\n",
      "building tree 3 of 100\n",
      "building tree 4 of 100\n",
      "\n",
      "building tree 5 of 100\n",
      "building tree 6 of 100\n",
      "building tree 7 of 100\n",
      "building tree 8 of 100\n",
      "building tree 9 of 100\n",
      "building tree 10 of 100\n",
      "building tree 11 of 100\n",
      "building tree 12 of 100\n",
      "building tree 13 of 100\n",
      "building tree 14 of 100\n"
     ]
    },
    {
     "name": "stderr",
     "output_type": "stream",
     "text": [
      "[Parallel(n_jobs=-1)]: Done  10 tasks      | elapsed:   39.9s\n"
     ]
    },
    {
     "name": "stdout",
     "output_type": "stream",
     "text": [
      "building tree 15 of 100\n",
      "building tree 16 of 100\n",
      "building tree 17 of 100\n",
      "building tree 18 of 100\n",
      "building tree 19 of 100\n",
      "building tree 20 of 100\n",
      "building tree 21 of 100\n",
      "building tree 22 of 100\n",
      "building tree 23 of 100\n",
      "building tree 24 of 100\n",
      "building tree 25 of 100\n",
      "building tree 26 of 100\n",
      "building tree 27 of 100\n",
      "building tree 28 of 100\n",
      "building tree 29 of 100\n",
      "building tree 30 of 100\n",
      "building tree 31 of 100\n",
      "building tree 32 of 100\n",
      "building tree 33 of 100\n",
      "building tree 34 of 100\n",
      "building tree 35 of 100\n",
      "building tree 36 of 100\n",
      "building tree 37 of 100\n",
      "building tree 38 of 100\n",
      "building tree 39 of 100\n",
      "building tree 40 of 100\n",
      "building tree 41 of 100\n",
      "building tree 42 of 100\n",
      "building tree 43 of 100\n",
      "building tree 44 of 100\n",
      "building tree 45 of 100\n",
      "building tree 46 of 100\n",
      "building tree 47 of 100\n",
      "building tree 48 of 100\n",
      "building tree 49 of 100\n",
      "building tree 50 of 100\n",
      "building tree 51 of 100\n",
      "building tree 52 of 100\n",
      "building tree 53 of 100\n",
      "building tree 54 of 100\n",
      "building tree 55 of 100\n",
      "building tree 56 of 100\n",
      "building tree 57 of 100\n",
      "building tree 58 of 100\n",
      "building tree 59 of 100\n",
      "building tree 60 of 100\n",
      "building tree 61 of 100\n",
      "building tree 62 of 100\n",
      "building tree 63 of 100\n",
      "building tree 64 of 100\n",
      "building tree 65 of 100\n",
      "building tree 66 of 100\n",
      "building tree 67 of 100\n",
      "building tree 68 of 100\n"
     ]
    },
    {
     "name": "stderr",
     "output_type": "stream",
     "text": [
      "[Parallel(n_jobs=-1)]: Done  64 tasks      | elapsed:  5.3min\n"
     ]
    },
    {
     "name": "stdout",
     "output_type": "stream",
     "text": [
      "building tree 69 of 100\n",
      "building tree 70 of 100\n",
      "building tree 71 of 100\n",
      "building tree 72 of 100\n",
      "building tree 73 of 100\n",
      "building tree 74 of 100\n",
      "building tree 75 of 100\n",
      "building tree 76 of 100\n",
      "building tree 77 of 100\n",
      "building tree 78 of 100\n",
      "building tree 79 of 100\n",
      "building tree 80 of 100\n",
      "building tree 81 of 100\n",
      "building tree 82 of 100\n",
      "building tree 83 of 100\n",
      "building tree 84 of 100\n",
      "building tree 85 of 100\n",
      "building tree 86 of 100\n",
      "building tree 87 of 100\n",
      "building tree 88 of 100\n",
      "building tree 89 of 100\n",
      "building tree 90 of 100\n",
      "building tree 91 of 100\n",
      "building tree 92 of 100\n",
      "building tree 93 of 100\n",
      "building tree 94 of 100\n",
      "building tree 95 of 100\n",
      "building tree 96 of 100\n",
      "building tree 97 of 100\n",
      "building tree 98 of 100\n",
      "building tree 99 of 100\n",
      "building tree 100 of 100\n",
      "CPU times: user 27min 51s, sys: 4.49 s, total: 27min 56s\n",
      "Wall time: 8min 52s\n"
     ]
    },
    {
     "name": "stderr",
     "output_type": "stream",
     "text": [
      "[Parallel(n_jobs=-1)]: Done 100 out of 100 | elapsed:  8.9min finished\n"
     ]
    },
    {
     "data": {
      "text/plain": [
       "RandomForestRegressor(max_depth=10, n_jobs=-1, verbose=5)"
      ]
     },
     "execution_count": 7,
     "metadata": {},
     "output_type": "execute_result"
    }
   ],
   "source": [
    "%%time\n",
    "\n",
    "#predicting lof(Pressure + 1)\n",
    "\n",
    "model_2 = RandomForestRegressor(n_jobs = -1, max_depth=10, verbose=5)\n",
    "model_2.fit(x_train, np.log(y_train + 1))"
   ]
  },
  {
   "cell_type": "code",
   "execution_count": 13,
   "id": "dd5bae22",
   "metadata": {},
   "outputs": [
    {
     "name": "stderr",
     "output_type": "stream",
     "text": [
      "[Parallel(n_jobs=4)]: Using backend ThreadingBackend with 4 concurrent workers.\n",
      "[Parallel(n_jobs=4)]: Done   6 out of  10 | elapsed:    3.1s remaining:    2.1s\n",
      "[Parallel(n_jobs=4)]: Done  10 out of  10 | elapsed:    4.3s finished\n"
     ]
    },
    {
     "name": "stdout",
     "output_type": "stream",
     "text": [
      "training score: 0.833619155634542\n"
     ]
    },
    {
     "name": "stderr",
     "output_type": "stream",
     "text": [
      "[Parallel(n_jobs=4)]: Using backend ThreadingBackend with 4 concurrent workers.\n",
      "[Parallel(n_jobs=4)]: Done   6 out of  10 | elapsed:    3.0s remaining:    2.0s\n",
      "[Parallel(n_jobs=4)]: Done  10 out of  10 | elapsed:    4.2s finished\n"
     ]
    },
    {
     "name": "stdout",
     "output_type": "stream",
     "text": [
      "model_2 train mean absolute error: 2.1048977044005484\n"
     ]
    },
    {
     "name": "stderr",
     "output_type": "stream",
     "text": [
      "[Parallel(n_jobs=4)]: Using backend ThreadingBackend with 4 concurrent workers.\n",
      "[Parallel(n_jobs=4)]: Done   6 out of  10 | elapsed:    1.1s remaining:    0.7s\n"
     ]
    },
    {
     "name": "stdout",
     "output_type": "stream",
     "text": [
      "model_2 mean absolute error: 2.082798784435768\n",
      "model_2 rmse: 4.165162927128455\n"
     ]
    },
    {
     "name": "stderr",
     "output_type": "stream",
     "text": [
      "[Parallel(n_jobs=4)]: Done  10 out of  10 | elapsed:    1.4s finished\n"
     ]
    }
   ],
   "source": [
    "print(f'training score: {model_2.score(x_train,np.log(y_train + 1))}')\n",
    "print(f'model_2 train mean absolute error: {mean_absolute_error(y_train, np.exp(model_2.predict(x_train))-1)}')\n",
    "\n",
    "preds_2 = model_2.predict(x_test)\n",
    "\n",
    "print(f'model_2 mean absolute error: {mean_absolute_error(y_test, np.exp(preds_2)-1)}')\n",
    "print(f'model_2 rmse: {mean_squared_error(y_test, np.exp(preds_2)-1, squared=False)}')"
   ]
  },
  {
   "cell_type": "code",
   "execution_count": 8,
   "id": "cc2a4da1",
   "metadata": {},
   "outputs": [
    {
     "data": {
      "text/html": [
       "<div>\n",
       "<style scoped>\n",
       "    .dataframe tbody tr th:only-of-type {\n",
       "        vertical-align: middle;\n",
       "    }\n",
       "\n",
       "    .dataframe tbody tr th {\n",
       "        vertical-align: top;\n",
       "    }\n",
       "\n",
       "    .dataframe thead th {\n",
       "        text-align: right;\n",
       "    }\n",
       "</style>\n",
       "<table border=\"1\" class=\"dataframe\">\n",
       "  <thead>\n",
       "    <tr style=\"text-align: right;\">\n",
       "      <th></th>\n",
       "      <th>feature</th>\n",
       "      <th>feature_importance</th>\n",
       "    </tr>\n",
       "  </thead>\n",
       "  <tbody>\n",
       "    <tr>\n",
       "      <th>0</th>\n",
       "      <td>R</td>\n",
       "      <td>0.028744</td>\n",
       "    </tr>\n",
       "    <tr>\n",
       "      <th>1</th>\n",
       "      <td>C</td>\n",
       "      <td>0.030677</td>\n",
       "    </tr>\n",
       "    <tr>\n",
       "      <th>2</th>\n",
       "      <td>time_step</td>\n",
       "      <td>0.852383</td>\n",
       "    </tr>\n",
       "    <tr>\n",
       "      <th>3</th>\n",
       "      <td>u_in</td>\n",
       "      <td>0.088172</td>\n",
       "    </tr>\n",
       "    <tr>\n",
       "      <th>4</th>\n",
       "      <td>u_out</td>\n",
       "      <td>0.000024</td>\n",
       "    </tr>\n",
       "  </tbody>\n",
       "</table>\n",
       "</div>"
      ],
      "text/plain": [
       "     feature  feature_importance\n",
       "0          R            0.028744\n",
       "1          C            0.030677\n",
       "2  time_step            0.852383\n",
       "3       u_in            0.088172\n",
       "4      u_out            0.000024"
      ]
     },
     "execution_count": 8,
     "metadata": {},
     "output_type": "execute_result"
    }
   ],
   "source": [
    "#export model_2\n",
    "\n",
    "pickle.dump(model_2, open('../models/model_2.p', 'wb'))\n",
    "\n",
    "model_2_feature_importances = pd.DataFrame({'feature': x_train.columns, 'feature_importance': model_2.feature_importances_})\n",
    "model_2_feature_importances\n",
    "\n",
    "model_2_feature_importances.to_csv('../models/model_2_feature_importances.csv', index=False)"
   ]
  },
  {
   "cell_type": "code",
   "execution_count": 9,
   "id": "7cd0e2ef",
   "metadata": {},
   "outputs": [
    {
     "data": {
      "text/plain": [
       "RandomForestRegressor(max_depth=10, n_jobs=-1, random_state=0)"
      ]
     },
     "execution_count": 9,
     "metadata": {},
     "output_type": "execute_result"
    }
   ],
   "source": [
    "#train on test data\n",
    "\n",
    "model_3 = RandomForestRegressor(n_jobs = -1, max_depth=10, random_state=0)\n",
    "model_3.fit(x_test, y_test)"
   ]
  },
  {
   "cell_type": "code",
   "execution_count": 12,
   "id": "cae534cc",
   "metadata": {},
   "outputs": [
    {
     "name": "stdout",
     "output_type": "stream",
     "text": [
      "training score: 0.7526649001575995\n",
      "model_3 train mean absolute error: 2.053929094552179\n",
      "model_3 mean absolute error: 2.0897300853619782\n",
      "model_3 rmse: 4.0681852395049605\n"
     ]
    }
   ],
   "source": [
    "print(f'training score: {model_3.score(x_test,y_test)}')\n",
    "print(f'model_3 train mean absolute error: {mean_absolute_error(y_test, model_3.predict(x_test))}')\n",
    "\n",
    "preds_3 = model_3.predict(x_train)\n",
    "\n",
    "print(f'model_3 mean absolute error: {mean_absolute_error(y_train, preds_3)}')\n",
    "print(f'model_3 rmse: {mean_squared_error(y_train, preds_3, squared=False)}')\n"
   ]
  },
  {
   "cell_type": "code",
   "execution_count": 15,
   "id": "f95d15be",
   "metadata": {},
   "outputs": [
    {
     "name": "stdout",
     "output_type": "stream",
     "text": [
      "CPU times: user 8min 19s, sys: 1.82 s, total: 8min 21s\n",
      "Wall time: 8min 21s\n"
     ]
    },
    {
     "data": {
      "text/plain": [
       "GradientBoostingRegressor(random_state=0)"
      ]
     },
     "execution_count": 15,
     "metadata": {},
     "output_type": "execute_result"
    }
   ],
   "source": [
    "%%time \n",
    "\n",
    "# Gradient Boosting\n",
    "\n",
    "model_4 = GradientBoostingRegressor(random_state=0, n_jobs=-1)\n",
    "model_4.fit(x_train, y_train)"
   ]
  },
  {
   "cell_type": "code",
   "execution_count": 16,
   "id": "6f4d0498",
   "metadata": {},
   "outputs": [
    {
     "name": "stdout",
     "output_type": "stream",
     "text": [
      "training score: 0.7051985106615015\n",
      "model_4 train mean absolute error: 2.427442886767309\n",
      "model_4 mean absolute error: 2.400265437451546\n",
      "model_4 rmse: 4.36826782369354\n"
     ]
    }
   ],
   "source": [
    "#gradient boosting performance\n",
    "\n",
    "print(f'training score: {model_4.score(x_train,y_train)}')\n",
    "print(f'model_4 train mean absolute error: {mean_absolute_error(y_train, model_4.predict(x_train))}')\n",
    "\n",
    "preds_4 = model_4.predict(x_test)\n",
    "\n",
    "print(f'model_4 mean absolute error: {mean_absolute_error(y_test, preds_4)}')\n",
    "print(f'model_4 rmse: {mean_squared_error(y_test, preds_4, squared=False)}')"
   ]
  },
  {
   "cell_type": "code",
   "execution_count": 18,
   "id": "9552966c",
   "metadata": {},
   "outputs": [
    {
     "data": {
      "text/plain": [
       "AdaBoostRegressor(random_state=0)"
      ]
     },
     "execution_count": 18,
     "metadata": {},
     "output_type": "execute_result"
    }
   ],
   "source": [
    "# AdaBoost \n",
    "\n",
    "model_5 = AdaBoostRegressor(random_state=0, n_jobs=-1)\n",
    "model_5.fit(x_train, y_train)"
   ]
  },
  {
   "cell_type": "code",
   "execution_count": 37,
   "id": "bc57bfa8",
   "metadata": {},
   "outputs": [
    {
     "name": "stdout",
     "output_type": "stream",
     "text": [
      "training score: 0.5611622404917471\n",
      "model_5 train mean absolute error: 3.2440964056741284\n",
      "model_5 mean absolute error: 3.2212058315237218\n",
      "model_5 rmse: 5.352084796453789\n"
     ]
    }
   ],
   "source": [
    "#AdaBoost performance\n",
    "\n",
    "print(f'training score: {model_5.score(x_train,y_train)}')\n",
    "print(f'model_5 train mean absolute error: {mean_absolute_error(y_train, model_5.predict(x_train))}')\n",
    "\n",
    "preds_5 = model_5.predict(x_test)\n",
    "\n",
    "print(f'model_5 mean absolute error: {mean_absolute_error(y_test, preds_5)}')\n",
    "print(f'model_5 rmse: {mean_squared_error(y_test, preds_5, squared=False)}')\n"
   ]
  }
 ],
 "metadata": {
  "kernelspec": {
   "display_name": "Python 3",
   "language": "python",
   "name": "python3"
  },
  "language_info": {
   "codemirror_mode": {
    "name": "ipython",
    "version": 3
   },
   "file_extension": ".py",
   "mimetype": "text/x-python",
   "name": "python",
   "nbconvert_exporter": "python",
   "pygments_lexer": "ipython3",
   "version": "3.8.8"
  }
 },
 "nbformat": 4,
 "nbformat_minor": 5
}
